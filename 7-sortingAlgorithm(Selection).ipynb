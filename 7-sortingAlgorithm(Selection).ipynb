{
 "cells": [
  {
   "cell_type": "code",
   "execution_count": 1,
   "metadata": {},
   "outputs": [
    {
     "name": "stdout",
     "output_type": "stream",
     "text": [
      "[0, 2, 11, 19, 27, 30, 31, 45, 121, 4444]\n"
     ]
    }
   ],
   "source": [
    "\n",
    "#With the Selection Sort Method:\n",
    "\n",
    "def selectionSort(unsortedlist):\n",
    "\n",
    "    for i in range(0, len(unsortedlist) - 1):\n",
    "\n",
    "        smallest = i\n",
    "\n",
    "        for j in range(i + 1, len(unsortedlist)):\n",
    "\n",
    "            if unsortedlist[j] < unsortedlist[smallest]:\n",
    "\n",
    "                smallest = j\n",
    "\n",
    "        unsortedlist[i], unsortedlist[smallest] = unsortedlist[smallest], unsortedlist[i]\n",
    "\n",
    "a = [19, 2, 31, 45, 30, 11, 121, 27, 0, 4444]\n",
    "selectionSort(a)\n",
    "print(a)"
   ]
  }
 ],
 "metadata": {
  "kernelspec": {
   "display_name": "Python 3.10.7 64-bit",
   "language": "python",
   "name": "python3"
  },
  "language_info": {
   "codemirror_mode": {
    "name": "ipython",
    "version": 3
   },
   "file_extension": ".py",
   "mimetype": "text/x-python",
   "name": "python",
   "nbconvert_exporter": "python",
   "pygments_lexer": "ipython3",
   "version": "3.10.7"
  },
  "orig_nbformat": 4,
  "vscode": {
   "interpreter": {
    "hash": "aee8b7b246df8f9039afb4144a1f6fd8d2ca17a180786b69acc140d282b71a49"
   }
  }
 },
 "nbformat": 4,
 "nbformat_minor": 2
}
