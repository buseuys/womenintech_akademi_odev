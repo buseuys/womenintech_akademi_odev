{
 "cells": [
  {
   "cell_type": "markdown",
   "metadata": {},
   "source": [
    "**2.Soru: 0dan 100e kadar karışık sırada sayıları tutan bir listenizin olduğunu düşünün. Bu liste içerisinde bu defa n tane sayı yerine 1 adet sayı eksik. Eksik olan sayıyı bulunuz.**"
   ]
  },
  {
   "cell_type": "code",
   "execution_count": 4,
   "metadata": {},
   "outputs": [
    {
     "name": "stdout",
     "output_type": "stream",
     "text": [
      "Missing number between 0 and 100: 12\n",
      "[1, 59, 58, 56, 3, 4, 51, 11, 89, 78, 74, 37, 44, 93, 14, 47, 69, 5, 81, 77, 42, 45, 8, 13, 68, 87, 23, 53, 95, 38, 49, 92, 15, 98, 6, 85, 26, 99, 10, 20, 67, 40, 83, 86, 82, 9, 25, 52, 84, 30, 94, 73, 35, 36, 22, 19, 100, 88, 18, 96, 79, 43, 61, 48, 64, 24, 66, 34, 90, 32, 72, 62, 55, 16, 70, 17, 29, 7, 27, 57, 2, 0, 76, 54, 80, 41, 65, 21, 28, 39, 97, 50, 31, 75, 60, 91, 71, 46, 63, 33]\n"
     ]
    }
   ],
   "source": [
    "import random\n",
    "myList = [i for i in range(0, 101)]\n",
    "random.shuffle(myList)\n",
    "\n",
    "removedNumber = random.sample(myList, 1)\n",
    "\n",
    "for i in removedNumber:\n",
    "    myList.remove(i)\n",
    "\n",
    "for i in range(0,101):\n",
    "   if i not in myList:\n",
    "    print(\"Missing number between 0 and 100:\", i)\n",
    "print(myList)\n",
    "\n"
   ]
  }
 ],
 "metadata": {
  "kernelspec": {
   "display_name": "Python 3.10.7 64-bit",
   "language": "python",
   "name": "python3"
  },
  "language_info": {
   "codemirror_mode": {
    "name": "ipython",
    "version": 3
   },
   "file_extension": ".py",
   "mimetype": "text/x-python",
   "name": "python",
   "nbconvert_exporter": "python",
   "pygments_lexer": "ipython3",
   "version": "3.10.7"
  },
  "orig_nbformat": 4,
  "vscode": {
   "interpreter": {
    "hash": "aee8b7b246df8f9039afb4144a1f6fd8d2ca17a180786b69acc140d282b71a49"
   }
  }
 },
 "nbformat": 4,
 "nbformat_minor": 2
}
