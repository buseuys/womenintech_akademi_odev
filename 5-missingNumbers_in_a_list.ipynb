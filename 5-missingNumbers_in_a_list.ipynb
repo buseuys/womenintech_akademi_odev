{
 "cells": [
  {
   "cell_type": "markdown",
   "metadata": {},
   "source": [
    "**1.Soru: 0 - 100 arasında karışık sırada sayıları tutan bir listenizin olduğunu düşünün. Bu liste içerisinde n tane sayı eksik. n ve eksik sayıları bulunuz.**"
   ]
  },
  {
   "cell_type": "markdown",
   "metadata": {},
   "source": [
    "i) 0 - 100 aralığında random bir liste oluşturalım. 101 eleman mevcut."
   ]
  },
  {
   "cell_type": "code",
   "execution_count": 47,
   "metadata": {},
   "outputs": [
    {
     "name": "stdout",
     "output_type": "stream",
     "text": [
      "[68, 44, 2, 13, 9, 63, 41, 83, 54, 7, 79, 51, 84, 71, 19, 60, 56, 85, 72, 46, 15, 20, 4, 30, 81]\n",
      "[40, 95, 27, 93, 26, 65, 53, 69, 94, 22, 96, 47, 37, 16, 43, 61, 38, 57, 1, 25, 33, 91, 42, 45, 99, 14, 82, 80, 31, 39, 88, 100, 35, 52, 32, 34, 17, 58, 87, 36, 29, 77, 8, 70, 12, 73, 48, 97, 75, 23, 50, 10, 90, 3, 89, 11, 49, 28, 55, 67, 62, 0, 24, 76, 59, 78, 64, 92, 74, 98, 18, 86, 21, 66, 5, 6]\n"
     ]
    }
   ],
   "source": [
    "import random\n",
    "\n",
    "my_list = [i for i in range(0, 101)]\n",
    "random.shuffle(my_list)\n",
    "\n",
    "remove_list = random.sample(my_list, 25)\n",
    "\n",
    "#print(my_list)\n",
    "print(remove_list)\n",
    "\n",
    "for i in remove_list:\n",
    "    my_list.remove(i)\n",
    "\n",
    "print(my_list)\n",
    "\n"
   ]
  },
  {
   "cell_type": "code",
   "execution_count": null,
   "metadata": {},
   "outputs": [],
   "source": [
    "#2nd Way\n",
    "#del my_list[0:6]\n",
    "#print(my_list)"
   ]
  },
  {
   "cell_type": "code",
   "execution_count": 19,
   "metadata": {},
   "outputs": [
    {
     "name": "stdout",
     "output_type": "stream",
     "text": [
      "Listeden 25 adet eleman silindi.\n",
      "Silinen elemanlar:  [3, 4, 12, 17, 19, 21, 22, 26, 28, 33, 34, 39, 41, 51, 53, 56, 66, 72, 76, 77, 91, 93, 95, 99, 100]\n"
     ]
    }
   ],
   "source": [
    "n = 0\n",
    "removed_items = []\n",
    "\n",
    "for i in range(0, 101):\n",
    "  if i not in my_list:\n",
    "    n += 1\n",
    "    removed_items.append(i)\n",
    "\n",
    "print(f\"Listeden {n} adet eleman silindi.\")\n",
    "print(\"Silinen elemanlar: \", removed_items)"
   ]
  },
  {
   "cell_type": "markdown",
   "metadata": {},
   "source": [
    "------------------------------------------------------------------------------------------------------------------------------------"
   ]
  },
  {
   "cell_type": "markdown",
   "metadata": {},
   "source": []
  }
 ],
 "metadata": {
  "kernelspec": {
   "display_name": "Python 3.10.7 64-bit",
   "language": "python",
   "name": "python3"
  },
  "language_info": {
   "codemirror_mode": {
    "name": "ipython",
    "version": 3
   },
   "file_extension": ".py",
   "mimetype": "text/x-python",
   "name": "python",
   "nbconvert_exporter": "python",
   "pygments_lexer": "ipython3",
   "version": "3.10.7"
  },
  "orig_nbformat": 4,
  "vscode": {
   "interpreter": {
    "hash": "aee8b7b246df8f9039afb4144a1f6fd8d2ca17a180786b69acc140d282b71a49"
   }
  }
 },
 "nbformat": 4,
 "nbformat_minor": 2
}
