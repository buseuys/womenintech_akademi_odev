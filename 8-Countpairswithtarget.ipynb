{
 "cells": [
  {
   "cell_type": "markdown",
   "metadata": {},
   "source": [
    "**4. Soru**: **Fonksiyon bir integer array nums ve bir hedef target değişkeni almalı ve bizlere toplamı target olan indexleri dönmeli.**\n",
    "\n",
    "Kurallar: Aynı index’teki değeri iki defa kullanamayız.\n",
    "\n",
    "    Örnek\n",
    "\n",
    "    Parametreler: nums = [2,7,11,15], target = 9\n",
    "    Dönen Değer: [0,1]\n",
    "    Açıklama: nums[0] ve nums[1]'deki değerlerin toplamı 9 yaptığı için çıktımız [0, 1] oldu.\n",
    "\n",
    "    Örnek\n",
    "\n",
    "    Parametreler: nums = [3,2,4], target = 6\n",
    "    Dönen Değer: [1,2]\n",
    "    Açıklama: nums[1] ve nums[2]'deki değerlerin toplamı 6 yaptığı için çıktımız [1, 2] oldu.\n",
    "    Not: Burada [0,0] çıktı olarak kabul edilemez. Çünkü aynı index'i kullanamayacağımız söylenmişti.\n",
    "\n",
    "    Örnek\n",
    "\n",
    "    Parametreler: nums = [3,2,4,1,3], target = 7\n",
    "    Dönen Değer: [2,4]\n",
    "    Açıklama: nums[2] ve nums[4]'deki değerlerin toplamı 7 yaptığı için çıktımız [2, 4] oldu.\n"
   ]
  },
  {
   "cell_type": "code",
   "execution_count": 1,
   "metadata": {},
   "outputs": [
    {
     "name": "stdout",
     "output_type": "stream",
     "text": [
      "Indexes of Pair: 0 3\n",
      "Values: 2 4\n",
      "Indexes of Pair: 4 5\n",
      "Values: 1 5\n",
      "Number of pairs we have: 2\n"
     ]
    }
   ],
   "source": [
    "#Count pairs with given target:\n",
    "\n",
    " \n",
    "def findPairs(nums, n, target):\n",
    " \n",
    "    count = 0  \n",
    " \n",
    "    for i in range(0, len(nums)):\n",
    "\n",
    "        for j in range(i + 1, len(nums)):\n",
    "\n",
    "            if nums[i] + nums[j] == target:\n",
    "\n",
    "                print(\"Indexes of Pair:\", i, j)\n",
    "                print(\"Values:\", nums[i], nums[j])\n",
    "\n",
    "                count += 1\n",
    " \n",
    "    return count\n",
    " \n",
    " \n",
    "nums = [2, 3, 10, 4, 1, 5 ]\n",
    "n = len(nums)\n",
    "target = 6\n",
    "\n",
    "print(\"Number of pairs we have:\",findPairs(nums, n, target))"
   ]
  }
 ],
 "metadata": {
  "kernelspec": {
   "display_name": "Python 3.10.7 64-bit",
   "language": "python",
   "name": "python3"
  },
  "language_info": {
   "codemirror_mode": {
    "name": "ipython",
    "version": 3
   },
   "file_extension": ".py",
   "mimetype": "text/x-python",
   "name": "python",
   "nbconvert_exporter": "python",
   "pygments_lexer": "ipython3",
   "version": "3.10.7"
  },
  "orig_nbformat": 4,
  "vscode": {
   "interpreter": {
    "hash": "aee8b7b246df8f9039afb4144a1f6fd8d2ca17a180786b69acc140d282b71a49"
   }
  }
 },
 "nbformat": 4,
 "nbformat_minor": 2
}
